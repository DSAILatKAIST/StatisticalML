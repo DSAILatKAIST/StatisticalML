{
  "cells": [
    {
      "cell_type": "markdown",
      "id": "02a5b526",
      "metadata": {
        "id": "02a5b526"
      },
      "source": [
        "# 0. Import packages"
      ]
    },
    {
      "cell_type": "code",
      "source": [
        "from google.colab import drive\n",
        "drive.mount('/content/drive')"
      ],
      "metadata": {
        "colab": {
          "base_uri": "https://localhost:8080/"
        },
        "id": "Gke3KOagcxAQ",
        "outputId": "489ce352-62db-4e5c-f180-0c07e6a14705"
      },
      "id": "Gke3KOagcxAQ",
      "execution_count": null,
      "outputs": [
        {
          "output_type": "stream",
          "name": "stdout",
          "text": [
            "Drive already mounted at /content/drive; to attempt to forcibly remount, call drive.mount(\"/content/drive\", force_remount=True).\n"
          ]
        }
      ]
    },
    {
      "cell_type": "code",
      "execution_count": null,
      "id": "58e5792b",
      "metadata": {
        "id": "58e5792b"
      },
      "outputs": [],
      "source": [
        "import os\n",
        "\n",
        "import numpy as np\n",
        "import pandas as pd\n",
        "\n",
        "import warnings\n",
        "warnings.filterwarnings('ignore')"
      ]
    },
    {
      "cell_type": "markdown",
      "id": "c2bb3bf4",
      "metadata": {
        "id": "c2bb3bf4"
      },
      "source": [
        "# 1. Load Base Dataset"
      ]
    },
    {
      "cell_type": "code",
      "execution_count": null,
      "id": "5bfd2498",
      "metadata": {
        "id": "5bfd2498"
      },
      "outputs": [],
      "source": [
        "INPUT_DIR='/content/drive/MyDrive/kaist-ie343-2023-spring'\n",
        "OUTPUT_DIR='/content/drive/MyDrive/kaist-ie343-2023-spring/results'"
      ]
    },
    {
      "cell_type": "code",
      "execution_count": null,
      "id": "63ae97d7",
      "metadata": {
        "id": "63ae97d7"
      },
      "outputs": [],
      "source": [
        "## Do not change this cell. \n",
        "## The reason for this is to prevent cheating using the original data from DACON. \n",
        "## If an assertion error occurs in that cell when TAs evaluate the submitted code of each student, it is considered cheating.\n",
        "\n",
        "train = pd.read_csv(os.path.join(INPUT_DIR, 'train.csv'))\n",
        "test = pd.read_csv(os.path.join(INPUT_DIR, 'test.csv'))\n",
        "park = pd.read_csv(os.path.join(INPUT_DIR, 'park.csv'))\n",
        "dcc = pd.read_csv(os.path.join(INPUT_DIR, 'day_care_center.csv'))\n",
        "\n",
        "assert train.shape[0] == 329690 and train.shape[1] == 13, 'Do not change the format of the input data.'\n",
        "assert test.shape[0] == 85097 and test.shape[1] == 12, 'Do not change the format of the input data.'\n",
        "assert park.shape[0] == 1359 and park.shape[1] == 7, 'Do not change the format of the input data.'\n",
        "assert dcc.shape[0] == 7373 and dcc.shape[1] == 10, 'Do not change the format of the input data.'"
      ]
    },
    {
      "cell_type": "markdown",
      "id": "a719a230",
      "metadata": {
        "id": "a719a230"
      },
      "source": [
        "# 2. Load additional dataset\n",
        "- Explain here the additional dataset that you used.\n",
        "- If you do not use any additional dataset, it's ok and keep empty the below cell."
      ]
    },
    {
      "cell_type": "code",
      "execution_count": null,
      "id": "ab76fc9b",
      "metadata": {
        "id": "ab76fc9b"
      },
      "outputs": [],
      "source": []
    },
    {
      "cell_type": "markdown",
      "id": "87e74561",
      "metadata": {
        "id": "87e74561"
      },
      "source": [
        "# 3. EDA and Preprocessing\n",
        "- Conduct exploratory data analysis and explain the insights from your analyses.\n",
        "- Conduct data preprocessing, including feature engineering, and explain your insights that derive such techniques."
      ]
    },
    {
      "cell_type": "code",
      "execution_count": null,
      "id": "d0407236",
      "metadata": {
        "id": "d0407236"
      },
      "outputs": [],
      "source": [
        "import matplotlib.pyplot as plt\n",
        "import seaborn as sns\n",
        "from scipy import stats\n",
        "from collections import Counter\n",
        "\n",
        "np.set_printoptions(precision=6, suppress=True)"
      ]
    },
    {
      "cell_type": "markdown",
      "source": [
        "**missing data**"
      ],
      "metadata": {
        "id": "5EAT4M3ndkjT"
      },
      "id": "5EAT4M3ndkjT"
    },
    {
      "cell_type": "code",
      "source": [
        "train.isna().sum(), test.isna().sum()"
      ],
      "metadata": {
        "colab": {
          "base_uri": "https://localhost:8080/"
        },
        "id": "uHdWf08PdkKn",
        "outputId": "faf45ab9-840c-48d7-aaf5-c79b6032136f"
      },
      "id": "uHdWf08PdkKn",
      "execution_count": null,
      "outputs": [
        {
          "output_type": "execute_result",
          "data": {
            "text/plain": [
              "(index                 0\n",
              " apartment_id          0\n",
              " city                  0\n",
              " dong                  0\n",
              " house_area            0\n",
              " built_year            0\n",
              " floor                 0\n",
              " lat                  89\n",
              " long                 89\n",
              " transaction_year      0\n",
              " transaction_month     0\n",
              " transaction_day       0\n",
              " PRICE                 0\n",
              " dtype: int64,\n",
              " index                 0\n",
              " apartment_id          0\n",
              " city                  0\n",
              " dong                  0\n",
              " house_area            0\n",
              " built_year            0\n",
              " floor                 0\n",
              " lat                  13\n",
              " long                 13\n",
              " transaction_year      0\n",
              " transaction_month     0\n",
              " transaction_day       0\n",
              " dtype: int64)"
            ]
          },
          "metadata": {},
          "execution_count": 134
        }
      ]
    },
    {
      "cell_type": "code",
      "source": [
        "train[train.isna()['lat']].head()"
      ],
      "metadata": {
        "colab": {
          "base_uri": "https://localhost:8080/",
          "height": 206
        },
        "id": "WLpuiRcciB2K",
        "outputId": "dc20fc31-f53e-4974-b5c0-e86ac2b7fb7d"
      },
      "id": "WLpuiRcciB2K",
      "execution_count": null,
      "outputs": [
        {
          "output_type": "execute_result",
          "data": {
            "text/plain": [
              "       index  apartment_id   city  dong  house_area  built_year  floor  lat  \\\n",
              "10134  10134           136  busan   113   20.126239        2010      6  NaN   \n",
              "10135  10135           136  busan   113   23.993114        2010      3  NaN   \n",
              "10136  10136           136  busan   113   20.137242        2010      4  NaN   \n",
              "10137  10137           136  busan   113   23.993114        2010      4  NaN   \n",
              "10138  10138           136  busan   113   23.789317        2010      8  NaN   \n",
              "\n",
              "       long  transaction_year  transaction_month transaction_day    PRICE  \n",
              "10134   NaN              2020                  1            1~10  60473.8  \n",
              "10135   NaN              2018                  1           11~20  68510.8  \n",
              "10136   NaN              2018                 11           11~20  65296.0  \n",
              "10137   NaN              2018                  3           21~31  65296.0  \n",
              "10138   NaN              2021                  7           21~31  76012.0  "
            ],
            "text/html": [
              "\n",
              "  <div id=\"df-34ec74b2-85ca-4cbb-b045-4429d9218d85\">\n",
              "    <div class=\"colab-df-container\">\n",
              "      <div>\n",
              "<style scoped>\n",
              "    .dataframe tbody tr th:only-of-type {\n",
              "        vertical-align: middle;\n",
              "    }\n",
              "\n",
              "    .dataframe tbody tr th {\n",
              "        vertical-align: top;\n",
              "    }\n",
              "\n",
              "    .dataframe thead th {\n",
              "        text-align: right;\n",
              "    }\n",
              "</style>\n",
              "<table border=\"1\" class=\"dataframe\">\n",
              "  <thead>\n",
              "    <tr style=\"text-align: right;\">\n",
              "      <th></th>\n",
              "      <th>index</th>\n",
              "      <th>apartment_id</th>\n",
              "      <th>city</th>\n",
              "      <th>dong</th>\n",
              "      <th>house_area</th>\n",
              "      <th>built_year</th>\n",
              "      <th>floor</th>\n",
              "      <th>lat</th>\n",
              "      <th>long</th>\n",
              "      <th>transaction_year</th>\n",
              "      <th>transaction_month</th>\n",
              "      <th>transaction_day</th>\n",
              "      <th>PRICE</th>\n",
              "    </tr>\n",
              "  </thead>\n",
              "  <tbody>\n",
              "    <tr>\n",
              "      <th>10134</th>\n",
              "      <td>10134</td>\n",
              "      <td>136</td>\n",
              "      <td>busan</td>\n",
              "      <td>113</td>\n",
              "      <td>20.126239</td>\n",
              "      <td>2010</td>\n",
              "      <td>6</td>\n",
              "      <td>NaN</td>\n",
              "      <td>NaN</td>\n",
              "      <td>2020</td>\n",
              "      <td>1</td>\n",
              "      <td>1~10</td>\n",
              "      <td>60473.8</td>\n",
              "    </tr>\n",
              "    <tr>\n",
              "      <th>10135</th>\n",
              "      <td>10135</td>\n",
              "      <td>136</td>\n",
              "      <td>busan</td>\n",
              "      <td>113</td>\n",
              "      <td>23.993114</td>\n",
              "      <td>2010</td>\n",
              "      <td>3</td>\n",
              "      <td>NaN</td>\n",
              "      <td>NaN</td>\n",
              "      <td>2018</td>\n",
              "      <td>1</td>\n",
              "      <td>11~20</td>\n",
              "      <td>68510.8</td>\n",
              "    </tr>\n",
              "    <tr>\n",
              "      <th>10136</th>\n",
              "      <td>10136</td>\n",
              "      <td>136</td>\n",
              "      <td>busan</td>\n",
              "      <td>113</td>\n",
              "      <td>20.137242</td>\n",
              "      <td>2010</td>\n",
              "      <td>4</td>\n",
              "      <td>NaN</td>\n",
              "      <td>NaN</td>\n",
              "      <td>2018</td>\n",
              "      <td>11</td>\n",
              "      <td>11~20</td>\n",
              "      <td>65296.0</td>\n",
              "    </tr>\n",
              "    <tr>\n",
              "      <th>10137</th>\n",
              "      <td>10137</td>\n",
              "      <td>136</td>\n",
              "      <td>busan</td>\n",
              "      <td>113</td>\n",
              "      <td>23.993114</td>\n",
              "      <td>2010</td>\n",
              "      <td>4</td>\n",
              "      <td>NaN</td>\n",
              "      <td>NaN</td>\n",
              "      <td>2018</td>\n",
              "      <td>3</td>\n",
              "      <td>21~31</td>\n",
              "      <td>65296.0</td>\n",
              "    </tr>\n",
              "    <tr>\n",
              "      <th>10138</th>\n",
              "      <td>10138</td>\n",
              "      <td>136</td>\n",
              "      <td>busan</td>\n",
              "      <td>113</td>\n",
              "      <td>23.789317</td>\n",
              "      <td>2010</td>\n",
              "      <td>8</td>\n",
              "      <td>NaN</td>\n",
              "      <td>NaN</td>\n",
              "      <td>2021</td>\n",
              "      <td>7</td>\n",
              "      <td>21~31</td>\n",
              "      <td>76012.0</td>\n",
              "    </tr>\n",
              "  </tbody>\n",
              "</table>\n",
              "</div>\n",
              "      <button class=\"colab-df-convert\" onclick=\"convertToInteractive('df-34ec74b2-85ca-4cbb-b045-4429d9218d85')\"\n",
              "              title=\"Convert this dataframe to an interactive table.\"\n",
              "              style=\"display:none;\">\n",
              "        \n",
              "  <svg xmlns=\"http://www.w3.org/2000/svg\" height=\"24px\"viewBox=\"0 0 24 24\"\n",
              "       width=\"24px\">\n",
              "    <path d=\"M0 0h24v24H0V0z\" fill=\"none\"/>\n",
              "    <path d=\"M18.56 5.44l.94 2.06.94-2.06 2.06-.94-2.06-.94-.94-2.06-.94 2.06-2.06.94zm-11 1L8.5 8.5l.94-2.06 2.06-.94-2.06-.94L8.5 2.5l-.94 2.06-2.06.94zm10 10l.94 2.06.94-2.06 2.06-.94-2.06-.94-.94-2.06-.94 2.06-2.06.94z\"/><path d=\"M17.41 7.96l-1.37-1.37c-.4-.4-.92-.59-1.43-.59-.52 0-1.04.2-1.43.59L10.3 9.45l-7.72 7.72c-.78.78-.78 2.05 0 2.83L4 21.41c.39.39.9.59 1.41.59.51 0 1.02-.2 1.41-.59l7.78-7.78 2.81-2.81c.8-.78.8-2.07 0-2.86zM5.41 20L4 18.59l7.72-7.72 1.47 1.35L5.41 20z\"/>\n",
              "  </svg>\n",
              "      </button>\n",
              "      \n",
              "  <style>\n",
              "    .colab-df-container {\n",
              "      display:flex;\n",
              "      flex-wrap:wrap;\n",
              "      gap: 12px;\n",
              "    }\n",
              "\n",
              "    .colab-df-convert {\n",
              "      background-color: #E8F0FE;\n",
              "      border: none;\n",
              "      border-radius: 50%;\n",
              "      cursor: pointer;\n",
              "      display: none;\n",
              "      fill: #1967D2;\n",
              "      height: 32px;\n",
              "      padding: 0 0 0 0;\n",
              "      width: 32px;\n",
              "    }\n",
              "\n",
              "    .colab-df-convert:hover {\n",
              "      background-color: #E2EBFA;\n",
              "      box-shadow: 0px 1px 2px rgba(60, 64, 67, 0.3), 0px 1px 3px 1px rgba(60, 64, 67, 0.15);\n",
              "      fill: #174EA6;\n",
              "    }\n",
              "\n",
              "    [theme=dark] .colab-df-convert {\n",
              "      background-color: #3B4455;\n",
              "      fill: #D2E3FC;\n",
              "    }\n",
              "\n",
              "    [theme=dark] .colab-df-convert:hover {\n",
              "      background-color: #434B5C;\n",
              "      box-shadow: 0px 1px 3px 1px rgba(0, 0, 0, 0.15);\n",
              "      filter: drop-shadow(0px 1px 2px rgba(0, 0, 0, 0.3));\n",
              "      fill: #FFFFFF;\n",
              "    }\n",
              "  </style>\n",
              "\n",
              "      <script>\n",
              "        const buttonEl =\n",
              "          document.querySelector('#df-34ec74b2-85ca-4cbb-b045-4429d9218d85 button.colab-df-convert');\n",
              "        buttonEl.style.display =\n",
              "          google.colab.kernel.accessAllowed ? 'block' : 'none';\n",
              "\n",
              "        async function convertToInteractive(key) {\n",
              "          const element = document.querySelector('#df-34ec74b2-85ca-4cbb-b045-4429d9218d85');\n",
              "          const dataTable =\n",
              "            await google.colab.kernel.invokeFunction('convertToInteractive',\n",
              "                                                     [key], {});\n",
              "          if (!dataTable) return;\n",
              "\n",
              "          const docLinkHtml = 'Like what you see? Visit the ' +\n",
              "            '<a target=\"_blank\" href=https://colab.research.google.com/notebooks/data_table.ipynb>data table notebook</a>'\n",
              "            + ' to learn more about interactive tables.';\n",
              "          element.innerHTML = '';\n",
              "          dataTable['output_type'] = 'display_data';\n",
              "          await google.colab.output.renderOutput(dataTable, element);\n",
              "          const docLink = document.createElement('div');\n",
              "          docLink.innerHTML = docLinkHtml;\n",
              "          element.appendChild(docLink);\n",
              "        }\n",
              "      </script>\n",
              "    </div>\n",
              "  </div>\n",
              "  "
            ]
          },
          "metadata": {},
          "execution_count": 135
        }
      ]
    },
    {
      "cell_type": "markdown",
      "source": [
        "**PRICE**"
      ],
      "metadata": {
        "id": "ixlhtsy_UO8C"
      },
      "id": "ixlhtsy_UO8C"
    },
    {
      "cell_type": "code",
      "source": [
        "sns.distplot(train['PRICE'])"
      ],
      "metadata": {
        "colab": {
          "base_uri": "https://localhost:8080/",
          "height": 483
        },
        "id": "8jxckSAtSvbT",
        "outputId": "3c97f4c4-1aa6-480b-b86c-8ce9bb7f32d9"
      },
      "id": "8jxckSAtSvbT",
      "execution_count": null,
      "outputs": [
        {
          "output_type": "execute_result",
          "data": {
            "text/plain": [
              "<Axes: xlabel='PRICE', ylabel='Density'>"
            ]
          },
          "metadata": {},
          "execution_count": 136
        },
        {
          "output_type": "display_data",
          "data": {
            "text/plain": [
              "<Figure size 640x480 with 1 Axes>"
            ],
            "image/png": "[encoded data removed]"
          },
          "metadata": {}
        }
      ]
    },
    {
      "cell_type": "markdown",
      "source": [
        "**apartment_id**"
      ],
      "metadata": {
        "id": "LYfa4ECPUQRR"
      },
      "id": "LYfa4ECPUQRR"
    },
    {
      "cell_type": "code",
      "source": [
        "train['apartment_id'].describe(), test['apartment_id'].describe()"
      ],
      "metadata": {
        "colab": {
          "base_uri": "https://localhost:8080/"
        },
        "id": "w439fvLpTZTD",
        "outputId": "4a3753c1-2469-4436-8aa4-80cbdc2a8ff2"
      },
      "id": "w439fvLpTZTD",
      "execution_count": null,
      "outputs": [
        {
          "output_type": "execute_result",
          "data": {
            "text/plain": [
              "(count    329690.000000\n",
              " mean       2200.879177\n",
              " std        1301.361025\n",
              " min           0.000000\n",
              " 25%        1057.000000\n",
              " 50%        2188.000000\n",
              " 75%        3347.000000\n",
              " max        4419.000000\n",
              " Name: apartment_id, dtype: float64,\n",
              " count    85097.000000\n",
              " mean      2202.428770\n",
              " std       1301.522752\n",
              " min          0.000000\n",
              " 25%       1056.000000\n",
              " 50%       2221.000000\n",
              " 75%       3341.000000\n",
              " max       4419.000000\n",
              " Name: apartment_id, dtype: float64)"
            ]
          },
          "metadata": {},
          "execution_count": 137
        }
      ]
    },
    {
      "cell_type": "code",
      "source": [
        "train['apartment_id'].nunique(), test['apartment_id'].nunique()"
      ],
      "metadata": {
        "colab": {
          "base_uri": "https://localhost:8080/"
        },
        "id": "sXZsUQUlUx7F",
        "outputId": "aa9d99e6-eded-4e0d-fe54-4abaf3729ddb"
      },
      "id": "sXZsUQUlUx7F",
      "execution_count": null,
      "outputs": [
        {
          "output_type": "execute_result",
          "data": {
            "text/plain": [
              "(4419, 3957)"
            ]
          },
          "metadata": {},
          "execution_count": 138
        }
      ]
    },
    {
      "cell_type": "code",
      "source": [
        "4391 in test['apartment_id']"
      ],
      "metadata": {
        "colab": {
          "base_uri": "https://localhost:8080/"
        },
        "id": "qUfwXR0hUiA1",
        "outputId": "4505137a-eb3b-41f0-90c8-085836cea6e0"
      },
      "id": "qUfwXR0hUiA1",
      "execution_count": null,
      "outputs": [
        {
          "output_type": "execute_result",
          "data": {
            "text/plain": [
              "True"
            ]
          },
          "metadata": {},
          "execution_count": 139
        }
      ]
    },
    {
      "cell_type": "markdown",
      "source": [
        "**city**"
      ],
      "metadata": {
        "id": "y6vJSerSVUIq"
      },
      "id": "y6vJSerSVUIq"
    },
    {
      "cell_type": "code",
      "source": [
        "fig, (ax1, ax2) = plt.subplots(1, 2)\n",
        "sns.barplot(x=['seoul', 'busan'], y=train['city'].value_counts(), ax=ax1)\n",
        "sns.barplot(x=['seoul', 'busan'], y=test['city'].value_counts(), ax=ax2)\n",
        "plt.subplots_adjust(wspace=0.5, hspace=0.5)"
      ],
      "metadata": {
        "colab": {
          "base_uri": "https://localhost:8080/",
          "height": 430
        },
        "id": "hGdDnsrHVh7p",
        "outputId": "92ea94c7-09e7-4831-8648-c4e8b6bd59d5"
      },
      "id": "hGdDnsrHVh7p",
      "execution_count": null,
      "outputs": [
        {
          "output_type": "display_data",
          "data": {
            "text/plain": [
              "<Figure size 640x480 with 2 Axes>"
            ],
            "image/png": "[encoded data removed]"
          },
          "metadata": {}
        }
      ]
    },
    {
      "cell_type": "code",
      "source": [
        "print(train.groupby(['city'])['PRICE'].mean())\n",
        "sns.barplot(x=train.groupby(['city'])['PRICE'].mean().index, y=train.groupby(['city'])['PRICE'].mean())"
      ],
      "metadata": {
        "colab": {
          "base_uri": "https://localhost:8080/",
          "height": 541
        },
        "id": "RdVww6yWVWm2",
        "outputId": "aaeba772-26a7-4590-e89b-4ad1e5bd501a"
      },
      "id": "RdVww6yWVWm2",
      "execution_count": null,
      "outputs": [
        {
          "output_type": "stream",
          "name": "stdout",
          "text": [
            "city\n",
            "busan    263637.948275\n",
            "seoul    547253.290896\n",
            "Name: PRICE, dtype: float64\n"
          ]
        },
        {
          "output_type": "execute_result",
          "data": {
            "text/plain": [
              "<Axes: xlabel='city', ylabel='PRICE'>"
            ]
          },
          "metadata": {},
          "execution_count": 141
        },
        {
          "output_type": "display_data",
          "data": {
            "text/plain": [
              "<Figure size 640x480 with 1 Axes>"
            ],
            "image/png": "[encoded data removed]"
          },
          "metadata": {}
        }
      ]
    },
    {
      "cell_type": "markdown",
      "source": [
        "**dong**"
      ],
      "metadata": {
        "id": "eoPzfESjYdm7"
      },
      "id": "eoPzfESjYdm7"
    },
    {
      "cell_type": "code",
      "source": [
        "train['dong'].describe(), test['dong'].describe()"
      ],
      "metadata": {
        "colab": {
          "base_uri": "https://localhost:8080/"
        },
        "outputId": "8ca7dcd4-2884-4538-e515-5f97297704d6",
        "id": "ialbFCh1Ygn2"
      },
      "execution_count": null,
      "outputs": [
        {
          "output_type": "execute_result",
          "data": {
            "text/plain": [
              "(count    329690.000000\n",
              " mean        113.374546\n",
              " std          67.664274\n",
              " min           0.000000\n",
              " 25%          56.000000\n",
              " 50%         109.000000\n",
              " 75%         171.000000\n",
              " max         236.000000\n",
              " Name: dong, dtype: float64,\n",
              " count    85097.000000\n",
              " mean       111.969118\n",
              " std         66.376688\n",
              " min          0.000000\n",
              " 25%         57.000000\n",
              " 50%        109.000000\n",
              " 75%        170.000000\n",
              " max        236.000000\n",
              " Name: dong, dtype: float64)"
            ]
          },
          "metadata": {},
          "execution_count": 142
        }
      ],
      "id": "ialbFCh1Ygn2"
    },
    {
      "cell_type": "code",
      "source": [
        "train['dong'].nunique(), test['dong'].nunique()"
      ],
      "metadata": {
        "colab": {
          "base_uri": "https://localhost:8080/"
        },
        "outputId": "c3b1d141-e80f-43f2-8ae4-fbbc0243114e",
        "id": "etCAgPo0Ygn5"
      },
      "execution_count": null,
      "outputs": [
        {
          "output_type": "execute_result",
          "data": {
            "text/plain": [
              "(203, 202)"
            ]
          },
          "metadata": {},
          "execution_count": 143
        }
      ],
      "id": "etCAgPo0Ygn5"
    },
    {
      "cell_type": "code",
      "source": [
        "set(test['dong']) - set(train['dong'])"
      ],
      "metadata": {
        "colab": {
          "base_uri": "https://localhost:8080/"
        },
        "outputId": "2df5b5c0-b4cc-47d4-f891-8c914676ec7e",
        "id": "1kspLA6WYgn6"
      },
      "execution_count": null,
      "outputs": [
        {
          "output_type": "execute_result",
          "data": {
            "text/plain": [
              "set()"
            ]
          },
          "metadata": {},
          "execution_count": 144
        }
      ],
      "id": "1kspLA6WYgn6"
    },
    {
      "cell_type": "code",
      "source": [
        "set(train['dong'][train['city']=='seoul']).intersection(set(train['dong'][train['city']=='busan'])), set(test['dong'][test['city']=='seoul']).intersection(set(test['dong'][test['city']=='busan']))"
      ],
      "metadata": {
        "colab": {
          "base_uri": "https://localhost:8080/"
        },
        "id": "8RV2ZB4JZBav",
        "outputId": "dc106dc0-ac8e-4ede-bebf-3254d257aa47"
      },
      "id": "8RV2ZB4JZBav",
      "execution_count": null,
      "outputs": [
        {
          "output_type": "execute_result",
          "data": {
            "text/plain": [
              "({120}, {120})"
            ]
          },
          "metadata": {},
          "execution_count": 145
        }
      ]
    },
    {
      "cell_type": "markdown",
      "source": [
        "**house_area**"
      ],
      "metadata": {
        "id": "lYf8RQZmZXWL"
      },
      "id": "lYf8RQZmZXWL"
    },
    {
      "cell_type": "code",
      "source": [
        "plt.scatter(train['house_area'], train['PRICE'], s=5)\n",
        "np.corrcoef(train['house_area'], train['PRICE'])[0, 1]"
      ],
      "metadata": {
        "colab": {
          "base_uri": "https://localhost:8080/",
          "height": 463
        },
        "id": "YIjrnFDgZW8Y",
        "outputId": "be8ae1da-ebfa-49ea-a5c0-64a626784848"
      },
      "id": "YIjrnFDgZW8Y",
      "execution_count": null,
      "outputs": [
        {
          "output_type": "execute_result",
          "data": {
            "text/plain": [
              "0.5615683423529758"
            ]
          },
          "metadata": {},
          "execution_count": 146
        },
        {
          "output_type": "display_data",
          "data": {
            "text/plain": [
              "<Figure size 640x480 with 1 Axes>"
            ],
            "image/png": "[encoded data removed]"
          },
          "metadata": {}
        }
      ]
    },
    {
      "cell_type": "markdown",
      "source": [
        "**built_year**\n"
      ],
      "metadata": {
        "id": "nLdy9IgUZ2Lr"
      },
      "id": "nLdy9IgUZ2Lr"
    },
    {
      "cell_type": "code",
      "source": [
        "train['built_year'].describe(), test['built_year'].describe()"
      ],
      "metadata": {
        "colab": {
          "base_uri": "https://localhost:8080/"
        },
        "id": "grw3Id8_Z4Wz",
        "outputId": "94f0eb83-a502-4d04-a621-95fd2d9ada98"
      },
      "id": "grw3Id8_Z4Wz",
      "execution_count": null,
      "outputs": [
        {
          "output_type": "execute_result",
          "data": {
            "text/plain": [
              "(count    329690.000000\n",
              " mean       1998.201474\n",
              " std           9.099311\n",
              " min        1962.000000\n",
              " 25%        1992.000000\n",
              " 50%        1999.000000\n",
              " 75%        2005.000000\n",
              " max        2016.000000\n",
              " Name: built_year, dtype: float64,\n",
              " count    85097.000000\n",
              " mean      1998.371564\n",
              " std          9.633915\n",
              " min       1962.000000\n",
              " 25%       1992.000000\n",
              " 50%       1999.000000\n",
              " 75%       2006.000000\n",
              " max       2016.000000\n",
              " Name: built_year, dtype: float64)"
            ]
          },
          "metadata": {},
          "execution_count": 147
        }
      ]
    },
    {
      "cell_type": "code",
      "source": [
        "plt.scatter(train['built_year'], train['PRICE'], s=5)\n",
        "np.corrcoef(train['built_year'], train['PRICE'])[0, 1]"
      ],
      "metadata": {
        "colab": {
          "base_uri": "https://localhost:8080/",
          "height": 463
        },
        "id": "OL8b3NAWaIjU",
        "outputId": "4feff582-eaa7-4343-86e0-52aa28f240e8"
      },
      "id": "OL8b3NAWaIjU",
      "execution_count": null,
      "outputs": [
        {
          "output_type": "execute_result",
          "data": {
            "text/plain": [
              "0.08170116319438053"
            ]
          },
          "metadata": {},
          "execution_count": 148
        },
        {
          "output_type": "display_data",
          "data": {
            "text/plain": [
              "<Figure size 640x480 with 1 Axes>"
            ],
            "image/png": "[encoded data removed]"
          },
          "metadata": {}
        }
      ]
    },
    {
      "cell_type": "markdown",
      "source": [
        "**floor**"
      ],
      "metadata": {
        "id": "IPtxzZVHaX9Y"
      },
      "id": "IPtxzZVHaX9Y"
    },
    {
      "cell_type": "code",
      "source": [
        "train['floor'].describe(), test['floor'].describe()"
      ],
      "metadata": {
        "colab": {
          "base_uri": "https://localhost:8080/"
        },
        "id": "jNDfGu3SaZG6",
        "outputId": "4a08ae33-daa6-4d25-f46a-c6964e55c0f5"
      },
      "id": "jNDfGu3SaZG6",
      "execution_count": null,
      "outputs": [
        {
          "output_type": "execute_result",
          "data": {
            "text/plain": [
              "(count    329690.000000\n",
              " mean          9.649725\n",
              " std           6.893568\n",
              " min          -4.000000\n",
              " 25%           4.000000\n",
              " 50%           8.000000\n",
              " 75%          13.000000\n",
              " max          70.000000\n",
              " Name: floor, dtype: float64,\n",
              " count    85097.000000\n",
              " mean         9.646333\n",
              " std          6.725972\n",
              " min         -3.000000\n",
              " 25%          4.000000\n",
              " 50%          9.000000\n",
              " 75%         13.000000\n",
              " max         70.000000\n",
              " Name: floor, dtype: float64)"
            ]
          },
          "metadata": {},
          "execution_count": 149
        }
      ]
    },
    {
      "cell_type": "code",
      "source": [
        "plt.scatter(train['floor'], train['PRICE'], s=5)\n",
        "np.corrcoef(train['floor'], train['PRICE'])[0, 1]"
      ],
      "metadata": {
        "colab": {
          "base_uri": "https://localhost:8080/",
          "height": 463
        },
        "id": "g-dFbWAjaoQa",
        "outputId": "fc406c38-98cd-4fac-9b17-a44104a007c1"
      },
      "id": "g-dFbWAjaoQa",
      "execution_count": null,
      "outputs": [
        {
          "output_type": "execute_result",
          "data": {
            "text/plain": [
              "0.13749912778560558"
            ]
          },
          "metadata": {},
          "execution_count": 150
        },
        {
          "output_type": "display_data",
          "data": {
            "text/plain": [
              "<Figure size 640x480 with 1 Axes>"
            ],
            "image/png": "[encoded data removed]"
          },
          "metadata": {}
        }
      ]
    },
    {
      "cell_type": "markdown",
      "source": [
        "**lat, long**"
      ],
      "metadata": {
        "id": "bmSKKVYbaVJ3"
      },
      "id": "bmSKKVYbaVJ3"
    },
    {
      "cell_type": "code",
      "source": [
        "fig, axes = plt.subplots(2, 2)\n",
        "sns.distplot(train['lat'][train['city']=='seoul'], ax=axes[0,0])\n",
        "sns.distplot(train['long'][train['city']=='seoul'], ax=axes[0,1])\n",
        "sns.distplot(train['lat'][train['city']=='busan'], ax=axes[1,0])\n",
        "sns.distplot(train['long'][train['city']=='busan'], ax=axes[1,1])\n",
        "plt.subplots_adjust(wspace=0.5, hspace=0.5)"
      ],
      "metadata": {
        "colab": {
          "base_uri": "https://localhost:8080/",
          "height": 449
        },
        "id": "UTIUHbC4bHR1",
        "outputId": "4f16998b-b94a-4c77-c433-bc2e38d312e6"
      },
      "id": "UTIUHbC4bHR1",
      "execution_count": null,
      "outputs": [
        {
          "output_type": "display_data",
          "data": {
            "text/plain": [
              "<Figure size 640x480 with 4 Axes>"
            ],
            "image/png": "[encoded data removed]"
          },
          "metadata": {}
        }
      ]
    },
    {
      "cell_type": "code",
      "source": [
        "print(np.corrcoef(train['lat'][train['city']=='seoul'], train['PRICE'][train['city']=='seoul'])[0, 1], np.corrcoef(train.dropna()['lat'][train.dropna()['city']=='busan'], train.dropna()['PRICE'][train.dropna()['city']=='busan'])[0, 1])"
      ],
      "metadata": {
        "colab": {
          "base_uri": "https://localhost:8080/"
        },
        "id": "K4n2D9_Ma5rW",
        "outputId": "7abc40b9-ec21-47d7-8fdc-389fc8877e86"
      },
      "id": "K4n2D9_Ma5rW",
      "execution_count": null,
      "outputs": [
        {
          "output_type": "stream",
          "name": "stdout",
          "text": [
            "-0.3530015013682778 0.039652580496743715\n"
          ]
        }
      ]
    },
    {
      "cell_type": "code",
      "source": [
        "print(np.corrcoef(train['long'][train['city']=='seoul'], train['PRICE'][train['city']=='seoul'])[0, 1], np.corrcoef(train.dropna()['long'][train.dropna()['city']=='busan'], train.dropna()['PRICE'][train.dropna()['city']=='busan'])[0, 1])"
      ],
      "metadata": {
        "colab": {
          "base_uri": "https://localhost:8080/"
        },
        "id": "fqkmkCu4d98z",
        "outputId": "fdbabf99-4626-4911-8553-240ffae1c069"
      },
      "id": "fqkmkCu4d98z",
      "execution_count": null,
      "outputs": [
        {
          "output_type": "stream",
          "name": "stdout",
          "text": [
            "0.19556148358658254 0.23962547785570498\n"
          ]
        }
      ]
    },
    {
      "cell_type": "markdown",
      "source": [
        "**transaction year, month, day**"
      ],
      "metadata": {
        "id": "88rWxHJMejcx"
      },
      "id": "88rWxHJMejcx"
    },
    {
      "cell_type": "code",
      "source": [
        "sns.barplot(x='transaction_year', y='PRICE', data=train)"
      ],
      "metadata": {
        "colab": {
          "base_uri": "https://localhost:8080/",
          "height": 468
        },
        "id": "YBMXg22BejQL",
        "outputId": "41312d18-8ff6-4603-ccf1-d75d29fa5f40"
      },
      "id": "YBMXg22BejQL",
      "execution_count": null,
      "outputs": [
        {
          "output_type": "execute_result",
          "data": {
            "text/plain": [
              "<Axes: xlabel='transaction_year', ylabel='PRICE'>"
            ]
          },
          "metadata": {},
          "execution_count": 154
        },
        {
          "output_type": "display_data",
          "data": {
            "text/plain": [
              "<Figure size 640x480 with 1 Axes>"
            ],
            "image/png": "[encoded data removed]"
          },
          "metadata": {}
        }
      ]
    },
    {
      "cell_type": "markdown",
      "source": [
        "**dong and lat, long**"
      ],
      "metadata": {
        "id": "z5KMEa0wifY8"
      },
      "id": "z5KMEa0wifY8"
    },
    {
      "cell_type": "code",
      "source": [
        "# dong 120 appears in both seoul and busan\n",
        "train[train['dong']!=120].groupby('dong')['lat'].var().max(), test[test['dong']!=120].groupby('dong')['lat'].var().max()"
      ],
      "metadata": {
        "colab": {
          "base_uri": "https://localhost:8080/"
        },
        "id": "gdVBgSfpgRLQ",
        "outputId": "34d6c95f-435f-484e-e3e2-ed1ff4f4d796"
      },
      "id": "gdVBgSfpgRLQ",
      "execution_count": null,
      "outputs": [
        {
          "output_type": "execute_result",
          "data": {
            "text/plain": [
              "(0.0, 0.0)"
            ]
          },
          "metadata": {},
          "execution_count": 155
        }
      ]
    },
    {
      "cell_type": "code",
      "source": [
        "train2 = train.copy()\n",
        "test2 = test.copy()\n",
        "\n",
        "# replacing lat and long of the missing values by mean lat and long of busan\n",
        "train2['lat'] = train2['lat'].fillna(np.mean(train2[train2['city']=='busan']['lat']))\n",
        "train2['long'] = train2['long'].fillna(np.mean(train2[train2['city']=='busan']['long']))\n",
        "test2['lat'] = test2['lat'].fillna(np.mean(test2[test2['city']=='busan']['lat']))\n",
        "test2['long'] = test2['long'].fillna(np.mean(test2[test2['city']=='busan']['long']))"
      ],
      "metadata": {
        "id": "vWF5cxsnAwZv"
      },
      "execution_count": null,
      "outputs": [],
      "id": "vWF5cxsnAwZv"
    },
    {
      "cell_type": "code",
      "source": [
        "def tm(y,m,d):\n",
        "  if d == '1~10':\n",
        "    dd = 0\n",
        "  elif d == '11~20':\n",
        "    dd = 1\n",
        "  else:\n",
        "    dd = 2\n",
        "  return (y-2018)*36+(m-1)*3+dd\n",
        "\n",
        "transaction_time = []\n",
        "for i in range(len(train)):\n",
        "  t = tm(train2['transaction_year'].iloc[i], train2['transaction_month'].iloc[i], train2['transaction_day'].iloc[i])\n",
        "  transaction_time.append(t)\n",
        "train2['transaction_time'] = transaction_time\n",
        "\n",
        "transaction_time_test = []\n",
        "for i in range(len(test)):\n",
        "  t = tm(test2['transaction_year'].iloc[i], test2['transaction_month'].iloc[i], test2['transaction_day'].iloc[i])\n",
        "  transaction_time_test.append(t)\n",
        "test2['transaction_time'] = transaction_time_test"
      ],
      "metadata": {
        "id": "1B9FCi1V32sx"
      },
      "execution_count": null,
      "outputs": [],
      "id": "1B9FCi1V32sx"
    },
    {
      "cell_type": "code",
      "source": [
        "train2.loc[((train2['city'] == 'busan') & (train2['dong'] == 120)), 'dong'] = 237\n",
        "\n",
        "test2.loc[((test2['city'] == 'busan') & (test2['dong'] == 120)), 'dong'] = 237"
      ],
      "metadata": {
        "id": "9_I-NToJEf3v"
      },
      "execution_count": null,
      "outputs": [],
      "id": "9_I-NToJEf3v"
    },
    {
      "cell_type": "code",
      "source": [
        "apt_mean = dict(train2.groupby('apartment_id')['PRICE'].mean())\n",
        "apt_mean[4391] = train2[train2['dong'] == 190]['PRICE'].mean() # apt 4391 is in dong 190\n",
        "apt_mean = {key: np.log(value) for key, value in apt_mean.items()}\n",
        "\n",
        "dong_mean = dict(train2.groupby('dong')['PRICE'].mean())\n",
        "dong_mean = {key: np.log(value) for key, value in dong_mean.items()}"
      ],
      "metadata": {
        "id": "Xv37DdRQ95o0"
      },
      "execution_count": null,
      "outputs": [],
      "id": "Xv37DdRQ95o0"
    },
    {
      "cell_type": "markdown",
      "id": "9a28a944",
      "metadata": {
        "id": "9a28a944"
      },
      "source": [
        "# 4. Modeling"
      ]
    },
    {
      "cell_type": "code",
      "source": [
        "from sklearn.model_selection import KFold, TimeSeriesSplit\n",
        "from sklearn.linear_model import LinearRegression, Ridge, Lasso\n",
        "from sklearn.ensemble import RandomForestRegressor, ExtraTreesRegressor\n",
        "from sklearn.metrics import mean_absolute_error, r2_score\n",
        "import xgboost as xgb\n",
        "import lightgbm as lgb\n",
        "\n",
        "# estimate time effects on PRICE\n",
        "time_price = LinearRegression().fit(train2[['transaction_time']], np.log(train2['PRICE']))"
      ],
      "metadata": {
        "id": "ymt1XSxKI2Mx"
      },
      "execution_count": null,
      "outputs": [],
      "id": "ymt1XSxKI2Mx"
    },
    {
      "cell_type": "code",
      "source": [
        "val_accs = []\n",
        "\n",
        "train3 = train2.copy()\n",
        "# to use TimeSeriesSplit, sorted by time\n",
        "train3 = train3.sort_values('transaction_time')\n",
        "\n",
        "train3['apt_mean'] = train3['apartment_id'].map(apt_mean)\n",
        "train3['dong_mean'] = train3['dong'].map(dong_mean)\n",
        "\n",
        "train_cols = ['apartment_id', 'house_area', 'floor', 'lat', 'long', 'built_year', 'transaction_time', 'apt_mean', 'dong', 'dong_mean']\n",
        "\n",
        "kf = TimeSeriesSplit(n_splits=5)\n",
        "for i, (tr_index, val_index) in enumerate(kf.split(train3)):\n",
        "    if i!=4 :continue\n",
        "    tr_x, tr_y = train3[train_cols].iloc[tr_index], train3.iloc[tr_index]['PRICE']\n",
        "    val_x, val_y = train3[train_cols].iloc[val_index], train3.iloc[val_index]['PRICE']\n",
        "\n",
        "    # By lat, separate seoul and busan data\n",
        "    tr_x_s = tr_x[tr_x['lat'] > 36]\n",
        "    tr_x_b = tr_x[tr_x['lat'] <= 36]\n",
        "    tr_y_s = tr_y[tr_x['lat'] > 36]\n",
        "    tr_y_b = tr_y[tr_x['lat'] <= 36]\n",
        "  \n",
        "    model_s_l = ExtraTreesRegressor(n_estimators=10)\n",
        "    model_b_l = ExtraTreesRegressor(n_estimators=10)\n",
        "    model_s_r = RandomForestRegressor(n_estimators=10)\n",
        "    model_b_r = RandomForestRegressor(n_estimators=10)\n",
        "\n",
        "    def trans(x, y):\n",
        "      y = np.log(y)\n",
        "      y = y - time_price.predict(x[['transaction_time']])\n",
        "      return y\n",
        "\n",
        "    def trans_inv(x, y):\n",
        "      y = y + time_price.predict(x[['transaction_time']])\n",
        "      y = np.exp(y)\n",
        "      return y\n",
        "    \n",
        "    model_s_l.fit(tr_x_s[train_cols], trans(tr_x_s, tr_y_s))\n",
        "    model_b_l.fit(tr_x_b[train_cols], trans(tr_x_b, tr_y_b))\n",
        "    model_s_r.fit(tr_x_s[train_cols], trans(tr_x_s, tr_y_s))\n",
        "    model_b_r.fit(tr_x_b[train_cols], trans(tr_x_b, tr_y_b))\n",
        "\n",
        "    # val_x    \n",
        "    pred_val = np.zeros(len(val_x))\n",
        "\n",
        "    seoul_idx = val_x['lat'] > 36\n",
        "    busan_idx = val_x['lat'] <= 36\n",
        "    data_s = val_x[seoul_idx]\n",
        "    data_b = val_x[busan_idx]\n",
        "\n",
        "    pred_val[seoul_idx] = model_s_l.predict(data_s)\n",
        "    pred_val[busan_idx] = model_b_l.predict(data_b)\n",
        "\n",
        "    pred_val = trans_inv(val_x, pred_val)\n",
        "\n",
        "    rf_acc = mean_absolute_error(val_y, pred_val)\n",
        "    val_accs.append(rf_acc)\n",
        "    \n",
        "    print(f'Fold{i}: MAE {rf_acc:.4f}')\n",
        "print(f'Average MAE {np.mean(val_accs):.4f}')"
      ],
      "metadata": {
        "colab": {
          "base_uri": "https://localhost:8080/"
        },
        "id": "OjoejeY3mTL8",
        "outputId": "e9c6094e-baf0-435d-b388-35a5fb792322"
      },
      "execution_count": null,
      "outputs": [
        {
          "output_type": "stream",
          "name": "stdout",
          "text": [
            "Fold4: MAE 27820.3868\n",
            "Average MAE 27820.3868\n"
          ]
        }
      ],
      "id": "OjoejeY3mTL8"
    },
    {
      "cell_type": "code",
      "source": [
        "train3 = train2.copy()\n",
        "test3 = test2.copy()\n",
        "\n",
        "train3['apt_mean'] = train3['apartment_id'].map(apt_mean)\n",
        "train3['dong_mean'] = train3['dong'].map(dong_mean)\n",
        "test3['apt_mean'] = test3['apartment_id'].map(apt_mean)\n",
        "test3['dong_mean'] = test3['dong'].map(dong_mean)\n",
        "\n",
        "train_cols = ['apartment_id', 'house_area', 'floor', 'lat', 'long', 'built_year', 'transaction_time', 'apt_mean', 'dong', 'dong_mean']\n",
        "\n",
        "tr_x, tr_y = train3[train_cols], train3['PRICE']\n",
        "test_x = test3[train_cols]\n",
        "\n",
        "tr_x_s = tr_x[tr_x['lat'] > 36]\n",
        "tr_x_b = tr_x[tr_x['lat'] <= 36]\n",
        "\n",
        "tr_y_s = tr_y[tr_x['lat'] > 36]\n",
        "tr_y_b = tr_y[tr_x['lat'] <= 36]\n",
        "\n",
        "model_s_e = ExtraTreesRegressor(n_estimators=100)\n",
        "model_b_e = ExtraTreesRegressor(n_estimators=100)\n",
        "model_s_r = RandomForestRegressor(n_estimators=100)\n",
        "model_b_r = RandomForestRegressor(n_estimators=100)\n",
        "\n",
        "def trans(x, y):\n",
        "  y = np.log(y)\n",
        "  y = y - time_price.predict(x[['transaction_time']])\n",
        "  return y\n",
        "\n",
        "def trans_inv(x, y):\n",
        "  y = y + time_price.predict(x[['transaction_time']])\n",
        "  y = np.exp(y)\n",
        "  return y\n",
        "\n",
        "model_s_e.fit(tr_x_s[train_cols], trans(tr_x_s, tr_y_s))\n",
        "model_b_e.fit(tr_x_b[train_cols], trans(tr_x_b, tr_y_b))\n",
        "model_s_r.fit(tr_x_s[train_cols], trans(tr_x_s, tr_y_s))\n",
        "model_b_r.fit(tr_x_b[train_cols], trans(tr_x_b, tr_y_b))\n",
        "\n",
        "# test_x    \n",
        "predictions = np.zeros(len(test_x))\n",
        "\n",
        "seoul_idx = test_x['lat'] > 36\n",
        "busan_idx = test_x['lat'] <= 36\n",
        "data_s = test_x[seoul_idx]\n",
        "data_b = test_x[busan_idx]\n",
        "\n",
        "predictions[seoul_idx] = 0.67*model_s_e.predict(data_s) + 0.33*model_s_r.predict(data_s)\n",
        "predictions[busan_idx] = 0.67*model_b_e.predict(data_b) + 0.33*model_b_r.predict(data_b)\n",
        "\n",
        "predictions = trans_inv(test_x, predictions)"
      ],
      "metadata": {
        "id": "r4rmM2mFoTAm"
      },
      "execution_count": null,
      "outputs": [],
      "id": "r4rmM2mFoTAm"
    },
    {
      "cell_type": "markdown",
      "id": "053b947b",
      "metadata": {
        "id": "053b947b"
      },
      "source": [
        "# 5. Make submission"
      ]
    },
    {
      "cell_type": "code",
      "execution_count": null,
      "id": "fa54dda6",
      "metadata": {
        "id": "fa54dda6"
      },
      "outputs": [],
      "source": [
        "pd.DataFrame({'index':test['index'].values, 'PRICE':predictions}).to_csv(os.path.join(OUTPUT_DIR, 'baseline.csv'), index=False)"
      ]
    }
  ],
  "metadata": {
    "kernelspec": {
      "display_name": "Python 3",
      "language": "python",
      "name": "python3"
    },
    "language_info": {
      "codemirror_mode": {
        "name": "ipython",
        "version": 3
      },
      "file_extension": ".py",
      "mimetype": "text/x-python",
      "name": "python",
      "nbconvert_exporter": "python",
      "pygments_lexer": "ipython3",
      "version": "3.8.8"
    },
    "colab": {
      "provenance": []
    }
  },
  "nbformat": 4,
  "nbformat_minor": 5
}